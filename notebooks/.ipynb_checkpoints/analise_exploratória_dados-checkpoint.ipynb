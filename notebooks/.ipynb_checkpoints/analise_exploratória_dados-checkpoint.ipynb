{
 "cells": [
  {
   "cell_type": "code",
   "execution_count": 12,
   "id": "d481b004-ff82-4915-9fa1-47b4cf975f9f",
   "metadata": {
    "tags": []
   },
   "outputs": [
    {
     "name": "stdout",
     "output_type": "stream",
     "text": [
      "Requirement already satisfied: pandas in c:\\users\\wande\\anaconda3\\lib\\site-packages (2.0.3)\n",
      "Requirement already satisfied: python-dateutil>=2.8.2 in c:\\users\\wande\\anaconda3\\lib\\site-packages (from pandas) (2.8.2)\n",
      "Requirement already satisfied: pytz>=2020.1 in c:\\users\\wande\\anaconda3\\lib\\site-packages (from pandas) (2023.3.post1)\n",
      "Requirement already satisfied: tzdata>=2022.1 in c:\\users\\wande\\anaconda3\\lib\\site-packages (from pandas) (2023.3)\n",
      "Requirement already satisfied: numpy>=1.21.0 in c:\\users\\wande\\anaconda3\\lib\\site-packages (from pandas) (1.24.3)\n",
      "Requirement already satisfied: six>=1.5 in c:\\users\\wande\\anaconda3\\lib\\site-packages (from python-dateutil>=2.8.2->pandas) (1.16.0)\n",
      "Requirement already satisfied: numpy in c:\\users\\wande\\anaconda3\\lib\\site-packages (1.24.3)\n",
      "Requirement already satisfied: matplotlib in c:\\users\\wande\\anaconda3\\lib\\site-packages (3.7.2)\n",
      "Requirement already satisfied: contourpy>=1.0.1 in c:\\users\\wande\\anaconda3\\lib\\site-packages (from matplotlib) (1.0.5)\n",
      "Requirement already satisfied: cycler>=0.10 in c:\\users\\wande\\anaconda3\\lib\\site-packages (from matplotlib) (0.11.0)\n",
      "Requirement already satisfied: fonttools>=4.22.0 in c:\\users\\wande\\anaconda3\\lib\\site-packages (from matplotlib) (4.25.0)\n",
      "Requirement already satisfied: kiwisolver>=1.0.1 in c:\\users\\wande\\anaconda3\\lib\\site-packages (from matplotlib) (1.4.4)\n",
      "Requirement already satisfied: numpy>=1.20 in c:\\users\\wande\\anaconda3\\lib\\site-packages (from matplotlib) (1.24.3)\n",
      "Requirement already satisfied: packaging>=20.0 in c:\\users\\wande\\anaconda3\\lib\\site-packages (from matplotlib) (23.1)\n",
      "Requirement already satisfied: pillow>=6.2.0 in c:\\users\\wande\\anaconda3\\lib\\site-packages (from matplotlib) (11.0.0)\n",
      "Requirement already satisfied: pyparsing<3.1,>=2.3.1 in c:\\users\\wande\\anaconda3\\lib\\site-packages (from matplotlib) (3.0.9)\n",
      "Requirement already satisfied: python-dateutil>=2.7 in c:\\users\\wande\\anaconda3\\lib\\site-packages (from matplotlib) (2.8.2)\n",
      "Requirement already satisfied: six>=1.5 in c:\\users\\wande\\anaconda3\\lib\\site-packages (from python-dateutil>=2.7->matplotlib) (1.16.0)\n",
      "Requirement already satisfied: scikit-learn in c:\\users\\wande\\anaconda3\\lib\\site-packages (1.3.0)\n",
      "Requirement already satisfied: numpy>=1.17.3 in c:\\users\\wande\\anaconda3\\lib\\site-packages (from scikit-learn) (1.24.3)\n",
      "Requirement already satisfied: scipy>=1.5.0 in c:\\users\\wande\\anaconda3\\lib\\site-packages (from scikit-learn) (1.11.1)\n",
      "Requirement already satisfied: joblib>=1.1.1 in c:\\users\\wande\\anaconda3\\lib\\site-packages (from scikit-learn) (1.2.0)\n",
      "Requirement already satisfied: threadpoolctl>=2.0.0 in c:\\users\\wande\\anaconda3\\lib\\site-packages (from scikit-learn) (2.2.0)\n",
      "Requirement already satisfied: seaborn in c:\\users\\wande\\anaconda3\\lib\\site-packages (0.12.2)\n",
      "Requirement already satisfied: numpy!=1.24.0,>=1.17 in c:\\users\\wande\\anaconda3\\lib\\site-packages (from seaborn) (1.24.3)\n",
      "Requirement already satisfied: pandas>=0.25 in c:\\users\\wande\\anaconda3\\lib\\site-packages (from seaborn) (2.0.3)\n",
      "Requirement already satisfied: matplotlib!=3.6.1,>=3.1 in c:\\users\\wande\\anaconda3\\lib\\site-packages (from seaborn) (3.7.2)\n",
      "Requirement already satisfied: contourpy>=1.0.1 in c:\\users\\wande\\anaconda3\\lib\\site-packages (from matplotlib!=3.6.1,>=3.1->seaborn) (1.0.5)\n",
      "Requirement already satisfied: cycler>=0.10 in c:\\users\\wande\\anaconda3\\lib\\site-packages (from matplotlib!=3.6.1,>=3.1->seaborn) (0.11.0)\n",
      "Requirement already satisfied: fonttools>=4.22.0 in c:\\users\\wande\\anaconda3\\lib\\site-packages (from matplotlib!=3.6.1,>=3.1->seaborn) (4.25.0)\n",
      "Requirement already satisfied: kiwisolver>=1.0.1 in c:\\users\\wande\\anaconda3\\lib\\site-packages (from matplotlib!=3.6.1,>=3.1->seaborn) (1.4.4)\n",
      "Requirement already satisfied: packaging>=20.0 in c:\\users\\wande\\anaconda3\\lib\\site-packages (from matplotlib!=3.6.1,>=3.1->seaborn) (23.1)\n",
      "Requirement already satisfied: pillow>=6.2.0 in c:\\users\\wande\\anaconda3\\lib\\site-packages (from matplotlib!=3.6.1,>=3.1->seaborn) (11.0.0)\n",
      "Requirement already satisfied: pyparsing<3.1,>=2.3.1 in c:\\users\\wande\\anaconda3\\lib\\site-packages (from matplotlib!=3.6.1,>=3.1->seaborn) (3.0.9)\n",
      "Requirement already satisfied: python-dateutil>=2.7 in c:\\users\\wande\\anaconda3\\lib\\site-packages (from matplotlib!=3.6.1,>=3.1->seaborn) (2.8.2)\n",
      "Requirement already satisfied: pytz>=2020.1 in c:\\users\\wande\\anaconda3\\lib\\site-packages (from pandas>=0.25->seaborn) (2023.3.post1)\n",
      "Requirement already satisfied: tzdata>=2022.1 in c:\\users\\wande\\anaconda3\\lib\\site-packages (from pandas>=0.25->seaborn) (2023.3)\n",
      "Requirement already satisfied: six>=1.5 in c:\\users\\wande\\anaconda3\\lib\\site-packages (from python-dateutil>=2.7->matplotlib!=3.6.1,>=3.1->seaborn) (1.16.0)\n"
     ]
    }
   ],
   "source": [
    "!pip install pandas\n",
    "!pip install numpy  \n",
    "!pip install matplotlib \n",
    "!pip install scikit-learn \n",
    "!pip install seaborn "
   ]
  },
  {
   "cell_type": "code",
   "execution_count": 13,
   "id": "cff6a726-9dd7-4517-b996-b1834b7e8dda",
   "metadata": {
    "tags": []
   },
   "outputs": [],
   "source": [
    "import pandas as pd\n",
    "import matplotlib.pyplot as plt\n",
    "import seaborn as sns"
   ]
  },
  {
   "cell_type": "code",
   "execution_count": 14,
   "id": "120b01cb-5859-43dc-b6e9-6b49a1470ed4",
   "metadata": {
    "tags": []
   },
   "outputs": [],
   "source": [
    "caminho = '../data/raw/base_credito_simulada_10000_enriquecida.csv'"
   ]
  },
  {
   "cell_type": "code",
   "execution_count": 15,
   "id": "9f61505f-4764-468a-8871-17b445f8d4ce",
   "metadata": {
    "tags": []
   },
   "outputs": [],
   "source": [
    "df = pd.read_csv(caminho)"
   ]
  },
  {
   "cell_type": "code",
   "execution_count": 16,
   "id": "260f4973-50de-407a-8a51-20fd05929f0e",
   "metadata": {},
   "outputs": [
    {
     "name": "stdout",
     "output_type": "stream",
     "text": [
      "  id_operacao id_cliente             produto    regiao  \\\n",
      "0     O000001     C02275     Cheque Especial   Sudeste   \n",
      "1     O000002     C02222     Cheque Especial       Sul   \n",
      "2     O000003     C01020     Crédito Pessoal       Sul   \n",
      "3     O000004     C01158  Financiamento Auto     Norte   \n",
      "4     O000005     C01650     Crédito Pessoal  Nordeste   \n",
      "\n",
      "                  data_inicio  valor_contratado  prazo_meses  taxa_juros_aa  \\\n",
      "0  2022-03-12 22:53:37.580839           3945.93           12          24.60   \n",
      "1  2019-02-15 15:28:15.883510          21265.68           12          21.92   \n",
      "2  2020-05-16 22:17:02.920443          33352.04           24          13.37   \n",
      "3  2020-02-12 08:37:49.191306            745.96           36          23.10   \n",
      "4  2022-09-06 01:26:21.049381          24707.13           12           6.95   \n",
      "\n",
      "              data_vencimento  atraso_max_dias  ...   estado_civil  \\\n",
      "0  2023-03-12 22:53:37.580839              120  ...          Viúvo   \n",
      "1  2020-02-15 15:28:15.883510                0  ...          Viúvo   \n",
      "2  2022-05-16 22:17:02.920443               60  ...       Solteiro   \n",
      "3  2023-02-12 08:37:49.191306                0  ...  União Estável   \n",
      "4  2023-09-06 01:26:21.049381               15  ...       Solteiro   \n",
      "\n",
      "       grau_instrucao  tempo_emprego   profissao  tipo_residencia  \\\n",
      "0            Superior           24.7    Autônomo           Outros   \n",
      "1  Mestrado/Doutorado           21.4    Autônomo           Cedido   \n",
      "2  Mestrado/Doutorado           28.6    Analista       Financiada   \n",
      "3       Pós-graduação           17.4    Autônomo           Cedido   \n",
      "4         Fundamental           19.3  Aposentado       Financiada   \n",
      "\n",
      "   numero_dependentes  tem_cartao_credito tem_outros_creditos possui_veiculo  \\\n",
      "0                   5                 Sim                 Sim            Sim   \n",
      "1                   4                 Sim                 Sim            Não   \n",
      "2                   2                 Não                 Sim            Sim   \n",
      "3                   3                 Sim                 Não            Sim   \n",
      "4                   5                 Não                 Sim            Não   \n",
      "\n",
      "   possui_imovel  \n",
      "0            Sim  \n",
      "1            Não  \n",
      "2            Sim  \n",
      "3            Sim  \n",
      "4            Não  \n",
      "\n",
      "[5 rows x 27 columns]\n"
     ]
    }
   ],
   "source": [
    "print(df.head())"
   ]
  },
  {
   "cell_type": "code",
   "execution_count": 17,
   "id": "0742e00b-2650-4fdd-87e6-f0bd0e2ae9fa",
   "metadata": {
    "tags": []
   },
   "outputs": [
    {
     "name": "stdout",
     "output_type": "stream",
     "text": [
      "<class 'pandas.core.frame.DataFrame'>\n",
      "RangeIndex: 10000 entries, 0 to 9999\n",
      "Data columns (total 27 columns):\n",
      " #   Column               Non-Null Count  Dtype  \n",
      "---  ------               --------------  -----  \n",
      " 0   id_operacao          10000 non-null  object \n",
      " 1   id_cliente           10000 non-null  object \n",
      " 2   produto              10000 non-null  object \n",
      " 3   regiao               10000 non-null  object \n",
      " 4   data_inicio          10000 non-null  object \n",
      " 5   valor_contratado     10000 non-null  float64\n",
      " 6   prazo_meses          10000 non-null  int64  \n",
      " 7   taxa_juros_aa        10000 non-null  float64\n",
      " 8   data_vencimento      10000 non-null  object \n",
      " 9   atraso_max_dias      10000 non-null  int64  \n",
      " 10  default              10000 non-null  int64  \n",
      " 11  ead                  10000 non-null  float64\n",
      " 12  perda_real           10000 non-null  float64\n",
      " 13  lgd                  10000 non-null  float64\n",
      " 14  renda_cliente        10000 non-null  float64\n",
      " 15  idade_cliente        10000 non-null  int64  \n",
      " 16  score_credito        10000 non-null  float64\n",
      " 17  estado_civil         10000 non-null  object \n",
      " 18  grau_instrucao       10000 non-null  object \n",
      " 19  tempo_emprego        10000 non-null  float64\n",
      " 20  profissao            10000 non-null  object \n",
      " 21  tipo_residencia      10000 non-null  object \n",
      " 22  numero_dependentes   10000 non-null  int64  \n",
      " 23  tem_cartao_credito   10000 non-null  object \n",
      " 24  tem_outros_creditos  10000 non-null  object \n",
      " 25  possui_veiculo       10000 non-null  object \n",
      " 26  possui_imovel        10000 non-null  object \n",
      "dtypes: float64(8), int64(5), object(14)\n",
      "memory usage: 2.1+ MB\n"
     ]
    }
   ],
   "source": [
    "df.info()"
   ]
  },
  {
   "cell_type": "code",
   "execution_count": 18,
   "id": "d3c2d0ef-f108-48e2-9a93-b84f1d0dafec",
   "metadata": {
    "tags": []
   },
   "outputs": [
    {
     "data": {
      "text/html": [
       "<div>\n",
       "<style scoped>\n",
       "    .dataframe tbody tr th:only-of-type {\n",
       "        vertical-align: middle;\n",
       "    }\n",
       "\n",
       "    .dataframe tbody tr th {\n",
       "        vertical-align: top;\n",
       "    }\n",
       "\n",
       "    .dataframe thead th {\n",
       "        text-align: right;\n",
       "    }\n",
       "</style>\n",
       "<table border=\"1\" class=\"dataframe\">\n",
       "  <thead>\n",
       "    <tr style=\"text-align: right;\">\n",
       "      <th></th>\n",
       "      <th>valor_contratado</th>\n",
       "      <th>prazo_meses</th>\n",
       "      <th>taxa_juros_aa</th>\n",
       "      <th>atraso_max_dias</th>\n",
       "      <th>default</th>\n",
       "      <th>ead</th>\n",
       "      <th>perda_real</th>\n",
       "      <th>lgd</th>\n",
       "      <th>renda_cliente</th>\n",
       "      <th>idade_cliente</th>\n",
       "      <th>score_credito</th>\n",
       "      <th>tempo_emprego</th>\n",
       "      <th>numero_dependentes</th>\n",
       "    </tr>\n",
       "  </thead>\n",
       "  <tbody>\n",
       "    <tr>\n",
       "      <th>count</th>\n",
       "      <td>10000.000000</td>\n",
       "      <td>10000.000000</td>\n",
       "      <td>10000.000000</td>\n",
       "      <td>10000.000000</td>\n",
       "      <td>10000.000000</td>\n",
       "      <td>10000.000000</td>\n",
       "      <td>10000.000000</td>\n",
       "      <td>10000.000000</td>\n",
       "      <td>10000.000000</td>\n",
       "      <td>10000.00000</td>\n",
       "      <td>10000.00000</td>\n",
       "      <td>10000.000000</td>\n",
       "      <td>10000.000000</td>\n",
       "    </tr>\n",
       "    <tr>\n",
       "      <th>mean</th>\n",
       "      <td>25467.142617</td>\n",
       "      <td>35.834400</td>\n",
       "      <td>14.997251</td>\n",
       "      <td>37.578000</td>\n",
       "      <td>0.194100</td>\n",
       "      <td>3725.272099</td>\n",
       "      <td>2418.647365</td>\n",
       "      <td>0.126063</td>\n",
       "      <td>10862.992738</td>\n",
       "      <td>45.96970</td>\n",
       "      <td>570.81030</td>\n",
       "      <td>15.037300</td>\n",
       "      <td>2.548000</td>\n",
       "    </tr>\n",
       "    <tr>\n",
       "      <th>std</th>\n",
       "      <td>14387.518048</td>\n",
       "      <td>17.101632</td>\n",
       "      <td>5.768727</td>\n",
       "      <td>63.416765</td>\n",
       "      <td>0.395526</td>\n",
       "      <td>9137.573450</td>\n",
       "      <td>6231.434415</td>\n",
       "      <td>0.271879</td>\n",
       "      <td>5358.395357</td>\n",
       "      <td>16.41337</td>\n",
       "      <td>158.87206</td>\n",
       "      <td>8.565502</td>\n",
       "      <td>1.695106</td>\n",
       "    </tr>\n",
       "    <tr>\n",
       "      <th>min</th>\n",
       "      <td>502.350000</td>\n",
       "      <td>12.000000</td>\n",
       "      <td>5.000000</td>\n",
       "      <td>0.000000</td>\n",
       "      <td>0.000000</td>\n",
       "      <td>0.000000</td>\n",
       "      <td>0.000000</td>\n",
       "      <td>0.000000</td>\n",
       "      <td>1500.220000</td>\n",
       "      <td>18.00000</td>\n",
       "      <td>300.00000</td>\n",
       "      <td>0.000000</td>\n",
       "      <td>0.000000</td>\n",
       "    </tr>\n",
       "    <tr>\n",
       "      <th>25%</th>\n",
       "      <td>13094.820000</td>\n",
       "      <td>24.000000</td>\n",
       "      <td>10.050000</td>\n",
       "      <td>0.000000</td>\n",
       "      <td>0.000000</td>\n",
       "      <td>0.000000</td>\n",
       "      <td>0.000000</td>\n",
       "      <td>0.000000</td>\n",
       "      <td>6271.130000</td>\n",
       "      <td>32.00000</td>\n",
       "      <td>432.00000</td>\n",
       "      <td>7.700000</td>\n",
       "      <td>1.000000</td>\n",
       "    </tr>\n",
       "    <tr>\n",
       "      <th>50%</th>\n",
       "      <td>25273.960000</td>\n",
       "      <td>36.000000</td>\n",
       "      <td>14.890000</td>\n",
       "      <td>15.000000</td>\n",
       "      <td>0.000000</td>\n",
       "      <td>0.000000</td>\n",
       "      <td>0.000000</td>\n",
       "      <td>0.000000</td>\n",
       "      <td>10984.230000</td>\n",
       "      <td>45.00000</td>\n",
       "      <td>567.00000</td>\n",
       "      <td>15.100000</td>\n",
       "      <td>3.000000</td>\n",
       "    </tr>\n",
       "    <tr>\n",
       "      <th>75%</th>\n",
       "      <td>38215.090000</td>\n",
       "      <td>48.000000</td>\n",
       "      <td>19.950000</td>\n",
       "      <td>60.000000</td>\n",
       "      <td>0.000000</td>\n",
       "      <td>0.000000</td>\n",
       "      <td>0.000000</td>\n",
       "      <td>0.000000</td>\n",
       "      <td>15564.220000</td>\n",
       "      <td>60.00000</td>\n",
       "      <td>711.00000</td>\n",
       "      <td>22.300000</td>\n",
       "      <td>4.000000</td>\n",
       "    </tr>\n",
       "    <tr>\n",
       "      <th>max</th>\n",
       "      <td>49994.800000</td>\n",
       "      <td>60.000000</td>\n",
       "      <td>25.000000</td>\n",
       "      <td>360.000000</td>\n",
       "      <td>1.000000</td>\n",
       "      <td>48720.773068</td>\n",
       "      <td>43802.790000</td>\n",
       "      <td>1.000000</td>\n",
       "      <td>19994.780000</td>\n",
       "      <td>74.00000</td>\n",
       "      <td>850.00000</td>\n",
       "      <td>30.000000</td>\n",
       "      <td>5.000000</td>\n",
       "    </tr>\n",
       "  </tbody>\n",
       "</table>\n",
       "</div>"
      ],
      "text/plain": [
       "       valor_contratado   prazo_meses  taxa_juros_aa  atraso_max_dias  \\\n",
       "count      10000.000000  10000.000000   10000.000000     10000.000000   \n",
       "mean       25467.142617     35.834400      14.997251        37.578000   \n",
       "std        14387.518048     17.101632       5.768727        63.416765   \n",
       "min          502.350000     12.000000       5.000000         0.000000   \n",
       "25%        13094.820000     24.000000      10.050000         0.000000   \n",
       "50%        25273.960000     36.000000      14.890000        15.000000   \n",
       "75%        38215.090000     48.000000      19.950000        60.000000   \n",
       "max        49994.800000     60.000000      25.000000       360.000000   \n",
       "\n",
       "            default           ead    perda_real           lgd  renda_cliente  \\\n",
       "count  10000.000000  10000.000000  10000.000000  10000.000000   10000.000000   \n",
       "mean       0.194100   3725.272099   2418.647365      0.126063   10862.992738   \n",
       "std        0.395526   9137.573450   6231.434415      0.271879    5358.395357   \n",
       "min        0.000000      0.000000      0.000000      0.000000    1500.220000   \n",
       "25%        0.000000      0.000000      0.000000      0.000000    6271.130000   \n",
       "50%        0.000000      0.000000      0.000000      0.000000   10984.230000   \n",
       "75%        0.000000      0.000000      0.000000      0.000000   15564.220000   \n",
       "max        1.000000  48720.773068  43802.790000      1.000000   19994.780000   \n",
       "\n",
       "       idade_cliente  score_credito  tempo_emprego  numero_dependentes  \n",
       "count    10000.00000    10000.00000   10000.000000        10000.000000  \n",
       "mean        45.96970      570.81030      15.037300            2.548000  \n",
       "std         16.41337      158.87206       8.565502            1.695106  \n",
       "min         18.00000      300.00000       0.000000            0.000000  \n",
       "25%         32.00000      432.00000       7.700000            1.000000  \n",
       "50%         45.00000      567.00000      15.100000            3.000000  \n",
       "75%         60.00000      711.00000      22.300000            4.000000  \n",
       "max         74.00000      850.00000      30.000000            5.000000  "
      ]
     },
     "execution_count": 18,
     "metadata": {},
     "output_type": "execute_result"
    }
   ],
   "source": [
    "df.describe()"
   ]
  },
  {
   "cell_type": "code",
   "execution_count": 19,
   "id": "79f99b31-0f86-49ed-8a10-2023eb30d94b",
   "metadata": {
    "tags": []
   },
   "outputs": [
    {
     "name": "stdout",
     "output_type": "stream",
     "text": [
      "id_operacao            0\n",
      "id_cliente             0\n",
      "produto                0\n",
      "regiao                 0\n",
      "data_inicio            0\n",
      "valor_contratado       0\n",
      "prazo_meses            0\n",
      "taxa_juros_aa          0\n",
      "data_vencimento        0\n",
      "atraso_max_dias        0\n",
      "default                0\n",
      "ead                    0\n",
      "perda_real             0\n",
      "lgd                    0\n",
      "renda_cliente          0\n",
      "idade_cliente          0\n",
      "score_credito          0\n",
      "estado_civil           0\n",
      "grau_instrucao         0\n",
      "tempo_emprego          0\n",
      "profissao              0\n",
      "tipo_residencia        0\n",
      "numero_dependentes     0\n",
      "tem_cartao_credito     0\n",
      "tem_outros_creditos    0\n",
      "possui_veiculo         0\n",
      "possui_imovel          0\n",
      "dtype: int64\n"
     ]
    }
   ],
   "source": [
    "# valores faltantes em cada coluna\n",
    "print(df.isnull().sum())"
   ]
  },
  {
   "cell_type": "code",
   "execution_count": 20,
   "id": "b1bdaba7-22d1-4abc-9027-5e3b2e5161ba",
   "metadata": {
    "tags": []
   },
   "outputs": [
    {
     "name": "stdout",
     "output_type": "stream",
     "text": [
      "Duplicados: 0\n"
     ]
    }
   ],
   "source": [
    "# Quantidade de linhas duplicadas\n",
    "print(\"Duplicados:\", df.duplicated().sum())"
   ]
  },
  {
   "cell_type": "code",
   "execution_count": null,
   "id": "b71f39fb-adb5-4f1e-b365-66344c0be4c3",
   "metadata": {},
   "outputs": [],
   "source": []
  }
 ],
 "metadata": {
  "kernelspec": {
   "display_name": "Python 3 (ipykernel)",
   "language": "python",
   "name": "python3"
  },
  "language_info": {
   "codemirror_mode": {
    "name": "ipython",
    "version": 3
   },
   "file_extension": ".py",
   "mimetype": "text/x-python",
   "name": "python",
   "nbconvert_exporter": "python",
   "pygments_lexer": "ipython3",
   "version": "3.11.5"
  }
 },
 "nbformat": 4,
 "nbformat_minor": 5
}
